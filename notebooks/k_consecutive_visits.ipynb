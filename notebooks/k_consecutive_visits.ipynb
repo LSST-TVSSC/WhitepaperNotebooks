{
 "cells": [
  {
   "cell_type": "markdown",
   "metadata": {},
   "source": [
    "Calculate the time gap between three consecutive visits in each filter, and generate a set of combined histograms with all filters.  Derived from sims_maf_contrib/tutorials/Plotting Examples.ipynb"
   ]
  },
  {
   "cell_type": "code",
   "execution_count": 1,
   "metadata": {
    "collapsed": false
   },
   "outputs": [],
   "source": [
    "# Import modules.\n",
    "import matplotlib.pyplot as plt\n",
    "%matplotlib inline\n",
    "import lsst.sims.maf.db as db\n",
    "import lsst.sims.maf.metrics as metrics\n",
    "import lsst.sims.maf.slicers as slicers\n",
    "import lsst.sims.maf.plots as plots\n",
    "from lsst.sims.maf.metricBundles import MetricBundle, MetricBundleGroup, makeBundlesDictFromList\n",
    "from mafContrib import kConsecutiveGapMetric"
   ]
  },
  {
   "cell_type": "code",
   "execution_count": 2,
   "metadata": {
    "collapsed": false
   },
   "outputs": [],
   "source": [
    "# Connect to databases.\n",
    "runName = 'minion_1016'\n",
    "opsdb = db.OpsimDatabase(runName + '_sqlite.db')\n",
    "outDir = 'allfilters_test'\n",
    "resultsDb = db.ResultsDb(outDir=outDir)"
   ]
  },
  {
   "cell_type": "markdown",
   "metadata": {},
   "source": [
    "Set up and run non-dithered metric bundles. Use a lower value of nside to make the notebook run faster, although at lower spatial resolution."
   ]
  },
  {
   "cell_type": "code",
   "execution_count": 3,
   "metadata": {
    "collapsed": false
   },
   "outputs": [
    {
     "name": "stdout",
     "output_type": "stream",
     "text": [
      "Healpix slicer using NSIDE=16, approximate resolution 219.871130 arcminutes\n"
     ]
    }
   ],
   "source": [
    "nside = 16\n",
    "# Set up metrics, slicer and summaryMetrics.\n",
    "m1 = kConsecutiveGapMetric(k=2)\n",
    "m2 = metrics.AveGapMetric()\n",
    "slicer = slicers.HealpixSlicer(nside=nside)\n",
    "summaryMetrics = [metrics.MinMetric(), metrics.MeanMetric(), metrics.MaxMetric(), \n",
    "                  metrics.MedianMetric(), metrics.RmsMetric(), \n",
    "                 metrics.PercentileMetric(percentile=25), metrics.PercentileMetric(percentile=75)]\n",
    "# And I'll set a plotDict for the nvisits and coadded depth, because otherwise the DD fields throw the \n",
    "#  scale in the plots into too wide a range. \n",
    "#  (we could also generate plots, see this effect, then set the dict and regenerate the plots)\n",
    "#nvisitsPlotRanges = {'xMin':0, 'xMax':300, 'colorMin':0, 'colorMax':300, 'binsize':5}\n",
    "#coaddPlotRanges = {'xMin':24, 'xMax':28, 'colorMin':24, 'colorMax':28, 'binsize':0.02}"
   ]
  },
  {
   "cell_type": "code",
   "execution_count": 4,
   "metadata": {
    "collapsed": true
   },
   "outputs": [],
   "source": [
    "filterlist = ['u', 'g', 'r', 'i', 'z', 'y']\n",
    "filterorder = {'u':0, 'g':1, 'r':2, 'i':3, 'z':4, 'y':5}"
   ]
  },
  {
   "cell_type": "code",
   "execution_count": 5,
   "metadata": {
    "collapsed": false
   },
   "outputs": [
    {
     "name": "stdout",
     "output_type": "stream",
     "text": [
      "Querying database with constraint filter = \"i\"\n",
      "Found 541688 visits\n",
      "Running:  ['minion_1016_AveGap_i_HEAL', 'minion_1016_kConsecutiveGap_i_HEAL']\n",
      "Completed metric generation.\n",
      "Running reduce methods.\n",
      "Running summary statistics.\n",
      "Completed.\n",
      "Querying database with constraint filter = \"r\"\n",
      "Found 538713 visits\n",
      "Running:  ['minion_1016_AveGap_r_HEAL', 'minion_1016_kConsecutiveGap_r_HEAL']\n",
      "Completed metric generation.\n",
      "Running reduce methods.\n",
      "Running summary statistics.\n",
      "Completed.\n",
      "Querying database with constraint filter = \"y\"\n",
      "Found 446306 visits\n",
      "Running:  ['minion_1016_AveGap_y_HEAL', 'minion_1016_kConsecutiveGap_y_HEAL']\n",
      "Completed metric generation.\n",
      "Running reduce methods.\n",
      "Running summary statistics.\n",
      "Completed.\n",
      "Querying database with constraint filter = \"g\"\n",
      "Found 246667 visits\n",
      "Running:  ['minion_1016_kConsecutiveGap_g_HEAL', 'minion_1016_AveGap_g_HEAL']\n",
      "Completed metric generation.\n",
      "Running reduce methods.\n",
      "Running summary statistics.\n",
      "Completed.\n",
      "Querying database with constraint filter = \"z\"\n",
      "Found 493206 visits\n",
      "Running:  ['minion_1016_AveGap_z_HEAL', 'minion_1016_kConsecutiveGap_z_HEAL']\n",
      "Completed metric generation.\n",
      "Running reduce methods.\n",
      "Running summary statistics.\n",
      "Completed.\n",
      "Querying database with constraint filter = \"u\"\n",
      "Found 181351 visits\n",
      "Running:  ['minion_1016_AveGap_u_HEAL', 'minion_1016_kConsecutiveGap_u_HEAL']\n",
      "Completed metric generation.\n",
      "Running reduce methods.\n",
      "Running summary statistics.\n",
      "Completed.\n",
      "Re-saving metric bundles.\n",
      "Re-saving metric bundles.\n",
      "Re-saving metric bundles.\n",
      "Re-saving metric bundles.\n",
      "Re-saving metric bundles.\n",
      "Re-saving metric bundles.\n",
      "Plotting figures with filter = \"i\" sqlconstraint now.\n"
     ]
    },
    {
     "name": "stderr",
     "output_type": "stream",
     "text": [
      "/smallfiles/ebellm/anaconda/envs/maf/lib/python2.7/site-packages/matplotlib/figure.py:1744: UserWarning: This figure includes Axes that are not compatible with tight_layout, so its results might be incorrect.\n",
      "  warnings.warn(\"This figure includes Axes that are not \"\n",
      "/smallfiles/ebellm/anaconda/envs/maf/opt/lsst/sims_maf/python/lsst/sims/maf/utils/mafUtils.py:60: UserWarning: Optimal bin calculation tried to make 996 bins, returning 200\n",
      "  warnings.warn('Optimal bin calculation tried to make %.0f bins, returning %i'%(nbins, nbinMax))\n"
     ]
    },
    {
     "name": "stdout",
     "output_type": "stream",
     "text": [
      "monopole: 1.51237  dipole: lon: 81.6098, lat: -18.8978, amp: 2.65152\n",
      "monopole: 1.51237  dipole: lon: 81.6098, lat: -18.8978, amp: 2.65152\n",
      "Plotting complete.\n",
      "Plotting figures with filter = \"r\" sqlconstraint now.\n"
     ]
    },
    {
     "name": "stderr",
     "output_type": "stream",
     "text": [
      "/smallfiles/ebellm/anaconda/envs/maf/opt/lsst/sims_maf/python/lsst/sims/maf/utils/mafUtils.py:60: UserWarning: Optimal bin calculation tried to make 688 bins, returning 200\n",
      "  warnings.warn('Optimal bin calculation tried to make %.0f bins, returning %i'%(nbins, nbinMax))\n"
     ]
    },
    {
     "name": "stdout",
     "output_type": "stream",
     "text": [
      "monopole: 3.00799  dipole: lon: 104.094, lat: -33.3581, amp: 8.54563\n",
      "monopole: 3.00799  dipole: lon: 104.094, lat: -33.3581, amp: 8.54563\n",
      "Plotting complete.\n",
      "Plotting figures with filter = \"y\" sqlconstraint now.\n",
      "monopole: 69.2102  dipole: lon: 82.8155, lat: 26.5374, amp: 81.7329\n",
      "monopole: 69.2102  dipole: lon: 82.8155, lat: 26.5374, amp: 81.7329\n",
      "Plotting complete.\n",
      "Plotting figures with filter = \"g\" sqlconstraint now.\n",
      "monopole: 35.4196  dipole: lon: 99.2672, lat: -30.1826, amp: 66.2848\n",
      "monopole: 35.4196  dipole: lon: 99.2672, lat: -30.1826, amp: 66.2848\n",
      "Plotting complete.\n",
      "Plotting figures with filter = \"z\" sqlconstraint now.\n",
      "monopole: 19.7608  dipole: lon: 78.158, lat: -23.7231, amp: 30.4023\n",
      "monopole: 19.7608  dipole: lon: 78.158, lat: -23.7231, amp: 30.4023\n",
      "Plotting complete.\n",
      "Plotting figures with filter = \"u\" sqlconstraint now.\n",
      "monopole: 575.393  dipole: lon: 90.9665, lat: 64.7773, amp: 301.548\n",
      "monopole: 575.393  dipole: lon: 90.9665, lat: 64.7773, amp: 301.548\n",
      "Plotting complete.\n"
     ]
    }
   ],
   "source": [
    "# Create metricBundles for each filter. \n",
    "# For ease of access later, I want to make a dictionary with 'kgap[filter]' first.\n",
    "kgap = {}\n",
    "avegap = {}\n",
    "for f in filterlist:\n",
    "    sqlconstraint = 'filter = \"%s\"' %(f)\n",
    "    # Add displayDict stuff that's useful for showMaf to put things in \"nice\" order.\n",
    "    displayDict = {'subgroup':'Undithered', 'order':filterorder[f], 'group':'kgap'}\n",
    "    kgap[f] = MetricBundle(m1, slicer, sqlconstraint=sqlconstraint, runName=runName,\n",
    "                              summaryMetrics=summaryMetrics, #plotDict=nvisitsPlotRanges,\n",
    "                              displayDict=displayDict)\n",
    "    displayDict['group'] = 'AveGap'\n",
    "    avegap[f] = MetricBundle(m2, slicer, sqlconstraint=sqlconstraint, runName=runName,\n",
    "                              summaryMetrics=summaryMetrics, #plotDict=nvisitsPlotRanges,\n",
    "                              displayDict=displayDict)\n",
    "    \n",
    "blistAll = []\n",
    "for f in filterlist:\n",
    "    blistAll.append(kgap[f])\n",
    "    blistAll.append(avegap[f])\n",
    "bdict = makeBundlesDictFromList(blistAll)\n",
    "# Set the metricBundleGroup up with all metricBundles, in all filters.\n",
    "bgroup = MetricBundleGroup(bdict, opsdb, outDir=outDir, resultsDb=resultsDb)\n",
    "bgroup.runAll()\n",
    "bgroup.writeAll()\n",
    "bgroup.plotAll()"
   ]
  },
  {
   "cell_type": "code",
   "execution_count": 6,
   "metadata": {
    "collapsed": false,
    "scrolled": true
   },
   "outputs": [
    {
     "name": "stdout",
     "output_type": "stream",
     "text": [
      "Kgap --\n",
      "{'25th%ile': 22.35362399990845, 'Rms': 327.83618904769236, '75th%ile': 708.58976999997685, 'Min': 0.01000799989560619, 'Max': 743.17653600001358, 'Median': 670.38560399995185, 'Mean': 447.8955767299264}\n",
      "{'25th%ile': 0.48255600000265986, 'Rms': 91.775048986466629, '75th%ile': 70.908324000018183, 'Min': 0.01000799989560619, 'Max': 574.66504799999529, 'Median': 0.95767200010595843, 'Mean': 52.21238613470446}\n",
      "{'25th%ile': 0.4654620000437717, 'Rms': 11.048278976792464, '75th%ile': 1.1980620000249473, 'Min': 0.01000799989560619, 'Max': 80.757803999993484, 'Median': 0.62932800005364697, 'Mean': 5.2782090400792772}\n",
      "{'25th%ile': 0.46093799997470342, 'Rms': 5.4951526902365275, '75th%ile': 0.75787200004560873, 'Min': 0.01000799989560619, 'Max': 47.387976000085473, 'Median': 0.59967599996889476, 'Mean': 2.0422292559100672}\n",
      "{'25th%ile': 0.48720899998443201, 'Rms': 36.735459054507622, '75th%ile': 46.58909999995376, 'Min': 0.01000799989560619, 'Max': 168.92901600000914, 'Median': 2.9091359998856205, 'Mean': 26.56867447276543}\n",
      "{'25th%ile': 0.59858400007942691, 'Rms': 61.265646136099704, '75th%ile': 74.572436999995261, 'Min': 0.01000799989560619, 'Max': 252.38913600007072, 'Median': 23.957033999991836, 'Mean': 51.462694131384779}\n",
      "Avegap --\n",
      "{'25th%ile': 22.35362399990845, 'Rms': 327.83618904769236, '75th%ile': 708.58976999997685, 'Min': 0.01000799989560619, 'Max': 743.17653600001358, 'Median': 670.38560399995185, 'Mean': 447.8955767299264}\n",
      "{'25th%ile': 0.48255600000265986, 'Rms': 91.775048986466629, '75th%ile': 70.908324000018183, 'Min': 0.01000799989560619, 'Max': 574.66504799999529, 'Median': 0.95767200010595843, 'Mean': 52.21238613470446}\n",
      "{'25th%ile': 0.4654620000437717, 'Rms': 11.048278976792464, '75th%ile': 1.1980620000249473, 'Min': 0.01000799989560619, 'Max': 80.757803999993484, 'Median': 0.62932800005364697, 'Mean': 5.2782090400792772}\n",
      "{'25th%ile': 0.46093799997470342, 'Rms': 5.4951526902365275, '75th%ile': 0.75787200004560873, 'Min': 0.01000799989560619, 'Max': 47.387976000085473, 'Median': 0.59967599996889476, 'Mean': 2.0422292559100672}\n",
      "{'25th%ile': 0.48720899998443201, 'Rms': 36.735459054507622, '75th%ile': 46.58909999995376, 'Min': 0.01000799989560619, 'Max': 168.92901600000914, 'Median': 2.9091359998856205, 'Mean': 26.56867447276543}\n",
      "{'25th%ile': 0.59858400007942691, 'Rms': 61.265646136099704, '75th%ile': 74.572436999995261, 'Min': 0.01000799989560619, 'Max': 252.38913600007072, 'Median': 23.957033999991836, 'Mean': 51.462694131384779}\n"
     ]
    }
   ],
   "source": [
    "print 'Kgap --'\n",
    "for f in filterlist:\n",
    "    print kgap[f].summaryValues\n",
    "print 'Avegap --'\n",
    "for f in filterlist:\n",
    "    print avegap[f].summaryValues"
   ]
  },
  {
   "cell_type": "markdown",
   "metadata": {},
   "source": [
    "Now let's try to combine the histograms."
   ]
  },
  {
   "cell_type": "code",
   "execution_count": 7,
   "metadata": {
    "collapsed": true
   },
   "outputs": [],
   "source": [
    "# Set more complicated plot labels directly in the bundles.\n",
    "for f in filterlist:\n",
    "    kgap[f].setPlotDict({'label':'%s  %1.f/%.1f/%1.f' %(f, kgap[f].summaryValues['25th%ile'], \n",
    "                                                    kgap[f].summaryValues['Median'], \n",
    "                                                   kgap[f].summaryValues['75th%ile'])})"
   ]
  },
  {
   "cell_type": "code",
   "execution_count": 8,
   "metadata": {
    "collapsed": false
   },
   "outputs": [
    {
     "data": {
      "text/plain": [
       "1"
      ]
     },
     "execution_count": 8,
     "metadata": {},
     "output_type": "execute_result"
    },
    {
     "data": {
      "image/png": "[encoded data removed]",
      "text/plain": [
       "<matplotlib.figure.Figure at 0x7f5a6fe70310>"
      ]
     },
     "metadata": {},
     "output_type": "display_data"
    }
   ],
   "source": [
    "# Set up the plotHandler.\n",
    "ph = plots.PlotHandler(outDir=outDir, resultsDb=resultsDb)\n",
    "# Instantiate the healpix histogram plotter, since we'll use it a lot.\n",
    "healpixhist = plots.HealpixHistogram()\n",
    "ph.setMetricBundles(kgap)\n",
    "# Add min/max values to the plots, which will be used for the combo histogram for nvisits.\n",
    "#ph.setPlotDicts(nvisitsPlotRanges)\n",
    "ph.plot(plotFunc=healpixhist)"
   ]
  },
  {
   "cell_type": "code",
   "execution_count": null,
   "metadata": {
    "collapsed": true
   },
   "outputs": [],
   "source": []
  }
 ],
 "metadata": {
  "kernelspec": {
   "display_name": "Python 2",
   "language": "python",
   "name": "python2"
  },
  "language_info": {
   "codemirror_mode": {
    "name": "ipython",
    "version": 2
   },
   "file_extension": ".py",
   "mimetype": "text/x-python",
   "name": "python",
   "nbconvert_exporter": "python",
   "pygments_lexer": "ipython2",
   "version": "2.7.11"
  }
 },
 "nbformat": 4,
 "nbformat_minor": 0
}
