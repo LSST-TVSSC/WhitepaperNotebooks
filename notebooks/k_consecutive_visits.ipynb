{
 "cells": [
  {
   "cell_type": "markdown",
   "metadata": {},
   "source": [
    "Calculate the time gap between three consecutive visits in each filter, and generate a set of combined histograms with all filters.  Derived from sims_maf_contrib/tutorials/Plotting Examples.ipynb"
   ]
  },
  {
   "cell_type": "code",
   "execution_count": 2,
   "metadata": {
    "collapsed": false
   },
   "outputs": [],
   "source": [
    "# Import modules.\n",
    "import matplotlib.pyplot as plt\n",
    "%matplotlib inline\n",
    "import lsst.sims.maf.db as db\n",
    "import lsst.sims.maf.metrics as metrics\n",
    "import lsst.sims.maf.slicers as slicers\n",
    "import lsst.sims.maf.plots as plots\n",
    "from lsst.sims.maf.metricBundles import MetricBundle, MetricBundleGroup, makeBundlesDictFromList\n",
    "from mafContrib import kConsecutiveGapMetric"
   ]
  },
  {
   "cell_type": "code",
   "execution_count": 3,
   "metadata": {
    "collapsed": false
   },
   "outputs": [],
   "source": [
    "# Connect to databases.\n",
    "runName = 'minion_1016'\n",
    "opsdb = db.OpsimDatabase(runName + '_sqlite.db')\n",
    "outDir = 'allfilters_test'\n",
    "resultsDb = db.ResultsDb(outDir=outDir)"
   ]
  },
  {
   "cell_type": "markdown",
   "metadata": {},
   "source": [
    "Set up and run non-dithered metric bundles. Use a lower value of nside to make the notebook run faster, although at lower spatial resolution."
   ]
  },
  {
   "cell_type": "code",
   "execution_count": 4,
   "metadata": {
    "collapsed": false
   },
   "outputs": [
    {
     "name": "stdout",
     "output_type": "stream",
     "text": [
      "Healpix slicer using NSIDE=16, approximate resolution 219.871130 arcminutes\n"
     ]
    }
   ],
   "source": [
    "nside = 16\n",
    "# Set up metrics, slicer and summaryMetrics.\n",
    "m1 = kConsecutiveGapMetric(k=2)\n",
    "m2 = metrics.AveGapMetric()\n",
    "slicer = slicers.HealpixSlicer(nside=nside)\n",
    "summaryMetrics = [metrics.MinMetric(), metrics.MeanMetric(), metrics.MaxMetric(), \n",
    "                  metrics.MedianMetric(), metrics.RmsMetric(), \n",
    "                 metrics.PercentileMetric(percentile=25), metrics.PercentileMetric(percentile=75)]\n",
    "# And I'll set a plotDict for the nvisits and coadded depth, because otherwise the DD fields throw the \n",
    "#  scale in the plots into too wide a range. \n",
    "#  (we could also generate plots, see this effect, then set the dict and regenerate the plots)\n",
    "#nvisitsPlotRanges = {'xMin':0, 'xMax':300, 'colorMin':0, 'colorMax':300, 'binsize':5}\n",
    "#coaddPlotRanges = {'xMin':24, 'xMax':28, 'colorMin':24, 'colorMax':28, 'binsize':0.02}"
   ]
  },
  {
   "cell_type": "code",
   "execution_count": 5,
   "metadata": {
    "collapsed": true
   },
   "outputs": [],
   "source": [
    "filterlist = ['u', 'g', 'r', 'i', 'z', 'y']\n",
    "filterorder = {'u':0, 'g':1, 'r':2, 'i':3, 'z':4, 'y':5}"
   ]
  },
  {
   "cell_type": "code",
   "execution_count": 6,
   "metadata": {
    "collapsed": false
   },
   "outputs": [
    {
     "name": "stdout",
     "output_type": "stream",
     "text": [
      "Querying database with constraint filter = \"i\"\n",
      "Found 541688 visits\n",
      "Running:  ['minion_1016_AveGap_i_HEAL', 'minion_1016_kConsecutiveGap_i_HEAL']\n",
      "Completed metric generation.\n",
      "Running reduce methods.\n",
      "Running summary statistics.\n",
      "Completed.\n",
      "Querying database with constraint filter = \"r\"\n",
      "Found 538713 visits\n",
      "Running:  ['minion_1016_AveGap_r_HEAL', 'minion_1016_kConsecutiveGap_r_HEAL']\n",
      "Completed metric generation.\n",
      "Running reduce methods.\n",
      "Running summary statistics.\n",
      "Completed.\n",
      "Querying database with constraint filter = \"y\"\n",
      "Found 446306 visits\n",
      "Running:  ['minion_1016_AveGap_y_HEAL', 'minion_1016_kConsecutiveGap_y_HEAL']\n",
      "Completed metric generation.\n",
      "Running reduce methods.\n",
      "Running summary statistics.\n",
      "Completed.\n",
      "Querying database with constraint filter = \"g\"\n",
      "Found 246667 visits\n",
      "Running:  ['minion_1016_kConsecutiveGap_g_HEAL', 'minion_1016_AveGap_g_HEAL']\n",
      "Completed metric generation.\n",
      "Running reduce methods.\n",
      "Running summary statistics.\n",
      "Completed.\n",
      "Querying database with constraint filter = \"z\"\n",
      "Found 493206 visits\n",
      "Running:  ['minion_1016_AveGap_z_HEAL', 'minion_1016_kConsecutiveGap_z_HEAL']\n",
      "Completed metric generation.\n",
      "Running reduce methods.\n",
      "Running summary statistics.\n",
      "Completed.\n",
      "Querying database with constraint filter = \"u\"\n",
      "Found 181351 visits\n",
      "Running:  ['minion_1016_AveGap_u_HEAL', 'minion_1016_kConsecutiveGap_u_HEAL']\n",
      "Completed metric generation.\n",
      "Running reduce methods.\n",
      "Running summary statistics.\n",
      "Completed.\n",
      "Re-saving metric bundles.\n",
      "Re-saving metric bundles.\n",
      "Re-saving metric bundles.\n",
      "Re-saving metric bundles.\n",
      "Re-saving metric bundles.\n",
      "Re-saving metric bundles.\n",
      "Plotting figures with filter = \"i\" sqlconstraint now.\n"
     ]
    },
    {
     "name": "stderr",
     "output_type": "stream",
     "text": [
      "/Users/ebellm/anaconda/envs/maf/opt/lsst/sims_maf/python/lsst/sims/maf/utils/mafUtils.py:60: UserWarning: Optimal bin calculation tried to make 996 bins, returning 200\n",
      "  warnings.warn('Optimal bin calculation tried to make %.0f bins, returning %i'%(nbins, nbinMax))\n"
     ]
    },
    {
     "name": "stdout",
     "output_type": "stream",
     "text": [
      "monopole: 1.51237  dipole: lon: 81.6098, lat: -18.8978, amp: 2.65152\n",
      "monopole: 1.51237  dipole: lon: 81.6098, lat: -18.8978, amp: 2.65152\n",
      "Plotting complete.\n",
      "Plotting figures with filter = \"r\" sqlconstraint now.\n"
     ]
    },
    {
     "name": "stderr",
     "output_type": "stream",
     "text": [
      "/Users/ebellm/anaconda/envs/maf/opt/lsst/sims_maf/python/lsst/sims/maf/utils/mafUtils.py:60: UserWarning: Optimal bin calculation tried to make 688 bins, returning 200\n",
      "  warnings.warn('Optimal bin calculation tried to make %.0f bins, returning %i'%(nbins, nbinMax))\n"
     ]
    },
    {
     "name": "stdout",
     "output_type": "stream",
     "text": [
      "monopole: 3.00799  dipole: lon: 104.094, lat: -33.3581, amp: 8.54563\n",
      "monopole: 3.00799  dipole: lon: 104.094, lat: -33.3581, amp: 8.54563\n",
      "Plotting complete.\n",
      "Plotting figures with filter = \"y\" sqlconstraint now.\n",
      "monopole: 69.2102  dipole: lon: 82.8155, lat: 26.5374, amp: 81.7329\n",
      "monopole: 69.2102  dipole: lon: 82.8155, lat: 26.5374, amp: 81.7329\n",
      "Plotting complete.\n",
      "Plotting figures with filter = \"g\" sqlconstraint now.\n",
      "monopole: 35.4196  dipole: lon: 99.2672, lat: -30.1826, amp: 66.2848\n",
      "monopole: 35.4196  dipole: lon: 99.2672, lat: -30.1826, amp: 66.2848\n",
      "Plotting complete.\n",
      "Plotting figures with filter = \"z\" sqlconstraint now.\n",
      "monopole: 19.7608  dipole: lon: 78.158, lat: -23.7231, amp: 30.4023\n",
      "monopole: 19.7608  dipole: lon: 78.158, lat: -23.7231, amp: 30.4023\n",
      "Plotting complete.\n",
      "Plotting figures with filter = \"u\" sqlconstraint now.\n",
      "monopole: 575.393  dipole: lon: 90.9665, lat: 64.7773, amp: 301.548\n",
      "monopole: 575.393  dipole: lon: 90.9665, lat: 64.7773, amp: 301.548\n",
      "Plotting complete.\n"
     ]
    }
   ],
   "source": [
    "# Create metricBundles for each filter. \n",
    "# For ease of access later, I want to make a dictionary with 'kgap[filter]' first.\n",
    "kgap = {}\n",
    "avegap = {}\n",
    "for f in filterlist:\n",
    "    sqlconstraint = 'filter = \"%s\"' %(f)\n",
    "    # Add displayDict stuff that's useful for showMaf to put things in \"nice\" order.\n",
    "    displayDict = {'subgroup':'Undithered', 'order':filterorder[f], 'group':'kgap'}\n",
    "    kgap[f] = MetricBundle(m1, slicer, sqlconstraint=sqlconstraint, runName=runName,\n",
    "                              summaryMetrics=summaryMetrics, #plotDict=nvisitsPlotRanges,\n",
    "                              displayDict=displayDict)\n",
    "    displayDict['group'] = 'AveGap'\n",
    "    avegap[f] = MetricBundle(m2, slicer, sqlconstraint=sqlconstraint, runName=runName,\n",
    "                              summaryMetrics=summaryMetrics, #plotDict=nvisitsPlotRanges,\n",
    "                              displayDict=displayDict)\n",
    "    \n",
    "blistAll = []\n",
    "for f in filterlist:\n",
    "    blistAll.append(kgap[f])\n",
    "    blistAll.append(avegap[f])\n",
    "bdict = makeBundlesDictFromList(blistAll)\n",
    "# Set the metricBundleGroup up with all metricBundles, in all filters.\n",
    "bgroup = MetricBundleGroup(bdict, opsdb, outDir=outDir, resultsDb=resultsDb)\n",
    "bgroup.runAll()\n",
    "bgroup.writeAll()\n",
    "bgroup.plotAll()"
   ]
  },
  {
   "cell_type": "code",
   "execution_count": 1,
   "metadata": {
    "collapsed": false,
    "scrolled": true
   },
   "outputs": [
    {
     "name": "stdout",
     "output_type": "stream",
     "text": [
      "Kgap --\n"
     ]
    },
    {
     "ename": "NameError",
     "evalue": "name 'filterlist' is not defined",
     "output_type": "error",
     "traceback": [
      "\u001b[0;31m---------------------------------------------------------------------------\u001b[0m",
      "\u001b[0;31mNameError\u001b[0m                                 Traceback (most recent call last)",
      "\u001b[0;32m<ipython-input-1-c0973fb1907c>\u001b[0m in \u001b[0;36m<module>\u001b[0;34m()\u001b[0m\n\u001b[1;32m      1\u001b[0m \u001b[0;32mprint\u001b[0m \u001b[0;34m'Kgap --'\u001b[0m\u001b[0;34m\u001b[0m\u001b[0m\n\u001b[0;32m----> 2\u001b[0;31m \u001b[0;32mfor\u001b[0m \u001b[0mf\u001b[0m \u001b[0;32min\u001b[0m \u001b[0mfilterlist\u001b[0m\u001b[0;34m:\u001b[0m\u001b[0;34m\u001b[0m\u001b[0m\n\u001b[0m\u001b[1;32m      3\u001b[0m     \u001b[0;32mprint\u001b[0m \u001b[0mkgap\u001b[0m\u001b[0;34m[\u001b[0m\u001b[0mf\u001b[0m\u001b[0;34m]\u001b[0m\u001b[0;34m.\u001b[0m\u001b[0msummaryValues\u001b[0m\u001b[0;34m\u001b[0m\u001b[0m\n\u001b[1;32m      4\u001b[0m \u001b[0;32mprint\u001b[0m \u001b[0;34m'Avegap --'\u001b[0m\u001b[0;34m\u001b[0m\u001b[0m\n\u001b[1;32m      5\u001b[0m \u001b[0;32mfor\u001b[0m \u001b[0mf\u001b[0m \u001b[0;32min\u001b[0m \u001b[0mfilterlist\u001b[0m\u001b[0;34m:\u001b[0m\u001b[0;34m\u001b[0m\u001b[0m\n",
      "\u001b[0;31mNameError\u001b[0m: name 'filterlist' is not defined"
     ]
    }
   ],
   "source": [
    "print 'Kgap --'\n",
    "for f in filterlist:\n",
    "    print kgap[f].summaryValues\n",
    "print 'Avegap --'\n",
    "for f in filterlist:\n",
    "    print avegap[f].summaryValues"
   ]
  },
  {
   "cell_type": "markdown",
   "metadata": {},
   "source": [
    "Now let's try to combine the histograms."
   ]
  },
  {
   "cell_type": "code",
   "execution_count": 7,
   "metadata": {
    "collapsed": true
   },
   "outputs": [],
   "source": [
    "# Set more complicated plot labels directly in the bundles.\n",
    "for f in filterlist:\n",
    "    kgap[f].setPlotDict({'label':'%s  %1.f/%.1f/%1.f' %(f, kgap[f].summaryValues['25th%ile'], \n",
    "                                                    kgap[f].summaryValues['Median'], \n",
    "                                                   kgap[f].summaryValues['75th%ile'])})"
   ]
  },
  {
   "cell_type": "code",
   "execution_count": 8,
   "metadata": {
    "collapsed": false
   },
   "outputs": [
    {
     "data": {
      "text/plain": [
       "1"
      ]
     },
     "execution_count": 8,
     "metadata": {},
     "output_type": "execute_result"
    },
    {
     "data": {
      "image/png": "[encoded data removed]",
      "text/plain": [
       "<matplotlib.figure.Figure at 0x118079bd0>"
      ]
     },
     "metadata": {},
     "output_type": "display_data"
    }
   ],
   "source": [
    "# Set up the plotHandler.\n",
    "ph = plots.PlotHandler(outDir=outDir, resultsDb=resultsDb)\n",
    "# Instantiate the healpix histogram plotter, since we'll use it a lot.\n",
    "healpixhist = plots.HealpixHistogram()\n",
    "ph.setMetricBundles(kgap)\n",
    "# Add min/max values to the plots, which will be used for the combo histogram for nvisits.\n",
    "#ph.setPlotDicts(nvisitsPlotRanges)\n",
    "ph.plot(plotFunc=healpixhist)"
   ]
  },
  {
   "cell_type": "code",
   "execution_count": null,
   "metadata": {
    "collapsed": true
   },
   "outputs": [],
   "source": []
  }
 ],
 "metadata": {
  "kernelspec": {
   "display_name": "Python 2",
   "language": "python",
   "name": "python2"
  },
  "language_info": {
   "codemirror_mode": {
    "name": "ipython",
    "version": 2
   },
   "file_extension": ".py",
   "mimetype": "text/x-python",
   "name": "python",
   "nbconvert_exporter": "python",
   "pygments_lexer": "ipython2",
   "version": "2.7.11"
  }
 },
 "nbformat": 4,
 "nbformat_minor": 0
}
