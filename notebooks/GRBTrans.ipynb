{
 "cells": [
  {
   "cell_type": "markdown",
   "metadata": {},
   "source": [
    "## LSST Afterglow detection metrics"
   ]
  },
  {
   "cell_type": "markdown",
   "metadata": {},
   "source": [
    "Notebook for a mocked up GRB afterglow lightcurve. "
   ]
  },
  {
   "cell_type": "code",
   "execution_count": 2,
   "metadata": {
    "collapsed": false
   },
   "outputs": [],
   "source": [
    "import numpy as np\n",
    "import matplotlib.pyplot as plt\n",
    "%matplotlib inline\n",
    "import healpy as hp\n",
    "\n",
    "import lsst.sims.maf.slicers as slicers\n",
    "import lsst.sims.maf.metrics as metrics\n",
    "import lsst.sims.maf.metricBundles as metricBundles\n",
    "import lsst.sims.maf.db as db"
   ]
  },
  {
   "cell_type": "code",
   "execution_count": 3,
   "metadata": {
    "collapsed": true
   },
   "outputs": [],
   "source": [
    "import matplotlib as mpl\n",
    "mpl.rcParams['figure.autolayout'] = False"
   ]
  },
  {
   "cell_type": "markdown",
   "metadata": {},
   "source": [
    "### On-axis afterglows"
   ]
  },
  {
   "cell_type": "markdown",
   "metadata": {},
   "source": [
    "On-axis afterglows decay as $F \\sim t^{-\\alpha}$ until a jet break, with $\\alpha \\sim 1$.\n",
    "\n",
    "This requires subclassing `TransientMetric`, which assumes linear rise & decays in magnitude. We therefore have writted `GRBTransientMetric` that synthesizes the appropriate lightcurve shape.\n",
    "\n",
    "We will use the rough numbers in 2011PASP..123.1034J: a Gaussian with $\\mu$=15.35 mag, $\\sigma=1.59$ in R-band at 1 minute after explosion, $\\alpha = 1.0$.  \n",
    "The right way to do this is not to assume fiducial values, but to simulate a cosmological population of events.\n"
   ]
  },
  {
   "cell_type": "markdown",
   "metadata": {},
   "source": [
    "### GRBTransientMetric"
   ]
  },
  {
   "cell_type": "code",
   "execution_count": 4,
   "metadata": {
    "collapsed": false
   },
   "outputs": [],
   "source": [
    "from mafContrib import GRBTransientMetric"
   ]
  },
  {
   "cell_type": "markdown",
   "metadata": {},
   "source": [
    "We'll calculate detection fractions for one, two, and three detections.  For testing we may want to use one year at a time:"
   ]
  },
  {
   "cell_type": "markdown",
   "metadata": {},
   "source": [
    "Now let's plot the lightcurves.  Because we include a random draw from the brightness distribution these plots will change each time we re-execute the cell."
   ]
  },
  {
   "cell_type": "code",
   "execution_count": 12,
   "metadata": {
    "collapsed": true
   },
   "outputs": [],
   "source": [
    "surveyDuration=10\n",
    "if surveyDuration < 10:\n",
    "    year = 3\n",
    "    sqlconstraint = 'night between %f and %f' % ((365.25*year,365.25*(year+1)))\n",
    "else:\n",
    "    sqlconstraint = ''"
   ]
  },
  {
   "cell_type": "code",
   "execution_count": 13,
   "metadata": {
    "collapsed": false
   },
   "outputs": [
    {
     "data": {
      "text/plain": [
       "<matplotlib.legend.Legend at 0x7f28ef419e90>"
      ]
     },
     "execution_count": 13,
     "metadata": {},
     "output_type": "execute_result"
    },
    {
     "data": {
      "image/png": "[encoded data removed]",
      "text/plain": [
       "<matplotlib.figure.Figure at 0x7f28ef6b3ad0>"
      ]
     },
     "metadata": {},
     "output_type": "display_data"
    }
   ],
   "source": [
    "colors = ['b','g','r','purple','y','magenta','k']\n",
    "filterNames = ['u','g','r','i','z','y']\n",
    "\n",
    "transDuration = 100 # days--controls how frequently we inject new transients.\n",
    "transMetric = GRBTransientMetric(alpha= 1.,surveyDuration=surveyDuration, transDuration=transDuration)\n",
    "\n",
    "\n",
    "times = np.logspace(-3,2,500)\n",
    "for filterName, color in zip(filterNames,colors):\n",
    "    filters = np.array([filterName]*times.size)\n",
    "    lc = transMetric.lightCurve(times % transDuration,filters)\n",
    "    plt.plot(times,lc, color, label=filterName)\n",
    "plt.xlabel('time (days)')\n",
    "plt.ylabel('mags')\n",
    "plt.gca().invert_yaxis()\n",
    "plt.xscale('log')\n",
    "plt.legend()"
   ]
  },
  {
   "cell_type": "code",
   "execution_count": 14,
   "metadata": {
    "collapsed": false
   },
   "outputs": [
    {
     "name": "stdout",
     "output_type": "stream",
     "text": [
      "Healpix slicer using NSIDE=16, approximate resolution 219.871130 arcminutes\n"
     ]
    }
   ],
   "source": [
    "# Pick a slicer\n",
    "slicer = slicers.HealpixSlicer(nside=16)\n",
    "\n",
    "summaryMetrics = [metrics.MinMetric(), metrics.MeanMetric(), metrics.MaxMetric(), \n",
    "                  metrics.MedianMetric(), metrics.RmsMetric(), \n",
    "                 metrics.PercentileMetric(percentile=25), metrics.PercentileMetric(percentile=75)]\n",
    "# Configure some metrics\n",
    "metricList = []\n",
    "# What fraction of transients are detected at least once?\n",
    "metricList.append(transMetric)\n",
    "# create metrics for 2 and 3 detections\n",
    "m2 = GRBTransientMetric(alpha= 1., surveyDuration=surveyDuration, nPerLC=2, metricName='GRBTransientMetric_k2')\n",
    "metricList.append(m2)\n",
    "m3 = GRBTransientMetric(alpha= 1., surveyDuration=surveyDuration, nPerLC=3, metricName='GRBTransientMetric_k3')\n",
    "metricList.append(m3)"
   ]
  },
  {
   "cell_type": "code",
   "execution_count": 17,
   "metadata": {
    "collapsed": false
   },
   "outputs": [],
   "source": [
    "# Set the database and query\n",
    "runName = 'minion_1016'\n",
    "bDict={}\n",
    "for i,metric in enumerate(metricList):\n",
    "    bDict[i] = metricBundles.MetricBundle(metric, slicer, sqlconstraint, \n",
    "                                          runName=runName, summaryMetrics=summaryMetrics)"
   ]
  },
  {
   "cell_type": "code",
   "execution_count": null,
   "metadata": {
    "collapsed": false
   },
   "outputs": [
    {
     "name": "stdout",
     "output_type": "stream",
     "text": [
      "Querying database with no constraint.\n",
      "Found 2447931 visits\n",
      "Running:  [0, 1, 2]\n"
     ]
    }
   ],
   "source": [
    "opsdb = db.OpsimDatabase(runName + '_sqlite.db')\n",
    "outDir = 'Transients'\n",
    "resultsDb = db.ResultsDb(outDir=outDir)\n",
    "\n",
    "bgroup = metricBundles.MetricBundleGroup(bDict, opsdb, outDir=outDir, resultsDb=resultsDb)\n",
    "bgroup.runAll()\n",
    "bgroup.plotAll(closefigs=False)"
   ]
  },
  {
   "cell_type": "code",
   "execution_count": 10,
   "metadata": {
    "collapsed": false
   },
   "outputs": [
    {
     "name": "stdout",
     "output_type": "stream",
     "text": [
      "GRBTransientMetric {'25th%ile': 0.33333333333333331, 'Rms': 0.23080065557860935, '75th%ile': 0.66666666666666663, 'Min': 0.33333333333333331, 'Max': 1.3333333333333333, 'Median': 0.33333333333333331, 'Mean': 0.50750202757502028}\n",
      "GRBTransientMetric_k2 {'25th%ile': 0.027777777777777776, 'Rms': 0.10579721370261139, '75th%ile': 0.16666666666666666, 'Min': 0.0, 'Max': 0.61111111111111116, 'Median': 0.083333333333333329, 'Mean': 0.107985266288186}\n",
      "GRBTransientMetric_k3 {'25th%ile': 0.0, 'Rms': 0.050235881989504835, '75th%ile': 0.055555555555555552, 'Min': 0.0, 'Max': 0.3611111111111111, 'Median': 0.0, 'Mean': 0.031275344687753448}\n"
     ]
    }
   ],
   "source": [
    "for key in bDict:\n",
    "    bDict[key].computeSummaryStats(resultsDb=resultsDb)\n",
    "    print bDict[key].metric.name, bDict[key].summaryValues"
   ]
  },
  {
   "cell_type": "markdown",
   "metadata": {},
   "source": [
    "So half of these afterglows are detected in one epoch, 11% in two, and 3% in three epochs (in any filter)."
   ]
  },
  {
   "cell_type": "markdown",
   "metadata": {},
   "source": [
    "### GRB Decay Rates and LSST revist times"
   ]
  },
  {
   "cell_type": "markdown",
   "metadata": {},
   "source": [
    "Let's try to understand these detection efficiencies by looking more generically at how often we have three observations in a single filter within a relevant interval to detect a GRB.\n",
    "\n",
    "We'll start by determining how long LSST can observe afterglows parameterized as above--this is be band-dependent, as both LSST's limiting magnitude and the afterglow color vary.  For simplicity we consider just $r$ band for now."
   ]
  },
  {
   "cell_type": "code",
   "execution_count": 19,
   "metadata": {
    "collapsed": false
   },
   "outputs": [
    {
     "name": "stdout",
     "output_type": "stream",
     "text": [
      "3.96226973493\n"
     ]
    },
    {
     "data": {
      "image/png": "[encoded data removed]",
      "text/plain": [
       "<matplotlib.figure.Figure at 0x1249f38d0>"
      ]
     },
     "metadata": {},
     "output_type": "display_data"
    }
   ],
   "source": [
    "colors = ['b','g','r','purple','y','magenta','k']\n",
    "filterNames = ['u','g','r','i','z','y']\n",
    "\n",
    "transDuration = 300 # days--controls how frequently we inject new transients.\n",
    "transMetric = GRBTransientMetric(alpha= 1.,surveyDuration=1, transDuration=transDuration)\n",
    "\n",
    "\n",
    "\n",
    "def find_time_at_limiting_mag(limiting_mag,times,lc):\n",
    "    return np.interp(limiting_mag,lc,times)\n",
    "\n",
    "limit_times = []\n",
    "lc_mins = []\n",
    "#times = np.linspace(0,transDuration+1,500)\n",
    "times = np.logspace(-2,2,500)\n",
    "for i in range(300):\n",
    "    # since we haven't included band-dependent afterglow brightness yet, \n",
    "    # look at the brightness distribution as a function of time in a single band\n",
    "    filters = np.array(['r']*times.size)\n",
    "    lc = transMetric.lightCurve(times,filters)\n",
    "    lc_mins.append(lc[-1])\n",
    "    limit_times.append(find_time_at_limiting_mag(24.7,times,lc))\n",
    "#    plt.plot(times,lc)\n",
    "#plt.xlabel('time (days)')\n",
    "#plt.ylabel('mags')\n",
    "#plt.gca().invert_yaxis()\n",
    "#plt.xscale('log')\n",
    "plt.hist(limit_times)\n",
    "plt.xlabel('Time after trigger last detectable by LSST (days)')\n",
    "plt.ylabel('Number of simulated bursts')\n",
    "\n",
    "print np.percentile(limit_times,50)"
   ]
  },
  {
   "cell_type": "markdown",
   "metadata": {},
   "source": [
    "So there is a substantial tail of afterglows detectable to tens or even hundreds of days after the burst.  Let's look at the cumulative histogram:"
   ]
  },
  {
   "cell_type": "code",
   "execution_count": 20,
   "metadata": {
    "collapsed": false
   },
   "outputs": [
    {
     "data": {
      "text/plain": [
       "<matplotlib.text.Text at 0x12137f290>"
      ]
     },
     "execution_count": 20,
     "metadata": {},
     "output_type": "execute_result"
    },
    {
     "data": {
      "image/png": "[encoded data removed]",
      "text/plain": [
       "<matplotlib.figure.Figure at 0x1212e1850>"
      ]
     },
     "metadata": {},
     "output_type": "display_data"
    }
   ],
   "source": [
    "plt.hist(limit_times,normed=True,cumulative=True,bins=np.logspace(-1,2,25))\n",
    "plt.xscale('log')\n",
    "plt.xlabel('Time after trigger last detectable by LSST (days)')\n",
    "plt.ylabel('Cumulative Fraction')"
   ]
  },
  {
   "cell_type": "markdown",
   "metadata": {},
   "source": [
    "It is important to remember that we have not included a jet break in our lightcurve model here--in reality we expect the afterglow decay to decay faster at late times.  Still, it does appear that with appropriately-chosen cadences it should be possible to detect afterglows in multiple visits."
   ]
  }
 ],
 "metadata": {
  "kernelspec": {
   "display_name": "Python 2",
   "language": "python",
   "name": "python2"
  },
  "language_info": {
   "codemirror_mode": {
    "name": "ipython",
    "version": 2
   },
   "file_extension": ".py",
   "mimetype": "text/x-python",
   "name": "python",
   "nbconvert_exporter": "python",
   "pygments_lexer": "ipython2",
   "version": "2.7.11"
  }
 },
 "nbformat": 4,
 "nbformat_minor": 0
}
